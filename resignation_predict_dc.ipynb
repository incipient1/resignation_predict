{
 "cells": [
  {
   "cell_type": "markdown",
   "metadata": {},
   "source": [
    "# [DC学院\\_员工离职预测训练赛](http://www.dcjingsai.com/common/cmpt/%E5%91%98%E5%B7%A5%E7%A6%BB%E8%81%8C%E9%A2%84%E6%B5%8B%E8%AE%AD%E7%BB%83%E8%B5%9B_%E7%BB%93%E6%9E%9C%E6%8F%90%E4%BA%A4.html)"
   ]
  },
  {
   "cell_type": "markdown",
   "metadata": {},
   "source": [
    "## 数据探索"
   ]
  },
  {
   "cell_type": "code",
   "execution_count": 2,
   "metadata": {
    "collapsed": true
   },
   "outputs": [],
   "source": [
    "import pandas as pd\n",
    "from sklearn import linear_model\n",
    "from sklearn.model_selection import cross_val_score\n",
    "import numpy as np"
   ]
  },
  {
   "cell_type": "code",
   "execution_count": 2,
   "metadata": {
    "collapsed": true
   },
   "outputs": [],
   "source": [
    "lr = linear_model.LogisticRegression()"
   ]
  },
  {
   "cell_type": "code",
   "execution_count": 3,
   "metadata": {
    "collapsed": true
   },
   "outputs": [],
   "source": [
    "resignation = pd.read_csv('E:/MySQL_data/DataCastle/pfm_train.csv',encoding='utf-8')"
   ]
  },
  {
   "cell_type": "code",
   "execution_count": null,
   "metadata": {
    "scrolled": false
   },
   "outputs": [],
   "source": [
    "resignation.describe().columns"
   ]
  },
  {
   "cell_type": "code",
   "execution_count": null,
   "metadata": {},
   "outputs": [],
   "source": [
    "resignation.columns"
   ]
  },
  {
   "cell_type": "code",
   "execution_count": null,
   "metadata": {
    "scrolled": false
   },
   "outputs": [],
   "source": [
    "resignation.sample(5)"
   ]
  },
  {
   "cell_type": "markdown",
   "metadata": {},
   "source": [
    "## 使用已有标签"
   ]
  },
  {
   "cell_type": "code",
   "execution_count": 15,
   "metadata": {
    "collapsed": true
   },
   "outputs": [],
   "source": [
    "features = ['Age','DistanceFromHome','Education','EmployeeNumber',\n",
    "            'EnvironmentSatisfaction','JobInvolvement','JobLevel',\n",
    "            'JobSatisfaction', 'MonthlyIncome', 'NumCompaniesWorked',\n",
    "            'PercentSalaryHike', 'PerformanceRating', 'RelationshipSatisfaction',\n",
    "            'StandardHours', 'StockOptionLevel', 'TotalWorkingYears',\n",
    "            'TrainingTimesLastYear', 'WorkLifeBalance', 'YearsAtCompany',\n",
    "            'YearsInCurrentRole', 'YearsSinceLastPromotion',\n",
    "            'YearsWithCurrManager']\n",
    "x = resignation[features]\n",
    "y = resignation['Attrition']"
   ]
  },
  {
   "cell_type": "markdown",
   "metadata": {},
   "source": [
    "这里的features是resignation.describe().columns"
   ]
  },
  {
   "cell_type": "code",
   "execution_count": 36,
   "metadata": {
    "collapsed": true
   },
   "outputs": [],
   "source": [
    "from sklearn.tree import DecisionTreeClassifier"
   ]
  },
  {
   "cell_type": "code",
   "execution_count": 38,
   "metadata": {},
   "outputs": [
    {
     "data": {
      "text/plain": [
       "0.74553709787392308"
      ]
     },
     "execution_count": 38,
     "metadata": {},
     "output_type": "execute_result"
    }
   ],
   "source": [
    "dt = DecisionTreeClassifier()\n",
    "score_dt = cross_val_score(dt,x,y,cv=5,scoring='accuracy').mean()\n",
    "score_dt"
   ]
  },
  {
   "cell_type": "code",
   "execution_count": 58,
   "metadata": {},
   "outputs": [
    {
     "name": "stdout",
     "output_type": "stream",
     "text": [
      "最佳近邻数量：7，准确率0.8218194027299587\n"
     ]
    }
   ],
   "source": [
    "from sklearn import neighbors\n",
    "\n",
    "best_num = 1\n",
    "knn_best_num = neighbors.KNeighborsClassifier(best_num,weights='distance')\n",
    "best_score = cross_val_score(knn_best_num,x,y,cv=5,scoring='accuracy').mean()\n",
    "for i in range(2,10):\n",
    "    knn_i = neighbors.KNeighborsClassifier(i,weights='distance')\n",
    "    score_i = cross_val_score(knn_i,x,y,cv=5,scoring='accuracy').mean()\n",
    "    if score_i > best_score:\n",
    "        best_score = score_i\n",
    "        best_num = i\n",
    "\n",
    "print('最佳近邻数量：{}，准确率{}'.format(best_num,best_score))"
   ]
  },
  {
   "cell_type": "code",
   "execution_count": 74,
   "metadata": {
    "collapsed": true
   },
   "outputs": [],
   "source": [
    "knn_best_num = neighbors.KNeighborsClassifier(best_num,weights='distance')"
   ]
  },
  {
   "cell_type": "code",
   "execution_count": 59,
   "metadata": {},
   "outputs": [
    {
     "name": "stdout",
     "output_type": "stream",
     "text": [
      "最佳深度：19，准确率0.8482165108595405\n"
     ]
    }
   ],
   "source": [
    "from sklearn import ensemble\n",
    "\n",
    "best_deep = 1\n",
    "rf_best_deep = ensemble.RandomForestClassifier(best_deep)\n",
    "best_score = cross_val_score(rf_best_deep,x,y,cv=5,scoring='accuracy').mean()\n",
    "for deep in range(2,24):\n",
    "    rf_deep = ensemble.RandomForestClassifier(deep)\n",
    "    score_deep = cross_val_score(rf_deep,x,y,cv=5,scoring='accuracy').mean()\n",
    "    if score_deep > best_score:\n",
    "        best_score = score_deep\n",
    "        best_deep = deep\n",
    "\n",
    "print('最佳深度：{}，准确率{}'.format(best_deep,best_score))"
   ]
  },
  {
   "cell_type": "code",
   "execution_count": 73,
   "metadata": {
    "collapsed": true
   },
   "outputs": [],
   "source": [
    "rf_best_deep = ensemble.RandomForestClassifier(best_deep)"
   ]
  },
  {
   "cell_type": "code",
   "execution_count": 61,
   "metadata": {},
   "outputs": [
    {
     "data": {
      "text/plain": [
       "0.71910704390962243"
      ]
     },
     "execution_count": 61,
     "metadata": {},
     "output_type": "execute_result"
    }
   ],
   "source": [
    "from sklearn.naive_bayes import GaussianNB\n",
    "gnb = GaussianNB()\n",
    "score_gnb = cross_val_score(gnb,x,y,cv=5,scoring='accuracy').mean()\n",
    "score_gnb"
   ]
  },
  {
   "cell_type": "code",
   "execution_count": null,
   "metadata": {
    "scrolled": true
   },
   "outputs": [],
   "source": [
    "from sklearn.linear_model.stochastic_gradient import SGDClassifier\n",
    "sgdc = SGDClassifier()\n",
    "score_sgdc = cross_val_score(sgdc,x,y,cv=5,scoring='accuracy').mean()\n",
    "score_sgdc"
   ]
  },
  {
   "cell_type": "code",
   "execution_count": null,
   "metadata": {
    "scrolled": true
   },
   "outputs": [],
   "source": [
    "from sklearn.linear_model.perceptron import Perceptron\n",
    "pct = Perceptron()\n",
    "score_pct = cross_val_score(pct,x,y,cv=5,scoring='accuracy').mean()\n",
    "score_pct"
   ]
  },
  {
   "cell_type": "code",
   "execution_count": 70,
   "metadata": {},
   "outputs": [
    {
     "data": {
      "text/plain": [
       "0.8381874155927338"
      ]
     },
     "execution_count": 70,
     "metadata": {},
     "output_type": "execute_result"
    }
   ],
   "source": [
    "from sklearn.svm import SVC\n",
    "svc = SVC()\n",
    "score_svc = cross_val_score(svc,x,y,cv=5,scoring='accuracy').mean()\n",
    "score_svc"
   ]
  },
  {
   "cell_type": "code",
   "execution_count": 72,
   "metadata": {},
   "outputs": [
    {
     "data": {
      "text/plain": [
       "0.83456750609047137"
      ]
     },
     "execution_count": 72,
     "metadata": {},
     "output_type": "execute_result"
    }
   ],
   "source": [
    "from sklearn.svm import LinearSVC\n",
    "lsvc = LinearSVC()\n",
    "score_lsvc = cross_val_score(lsvc,x,y,cv=5,scoring='accuracy').mean()\n",
    "score_lsvc"
   ]
  },
  {
   "cell_type": "code",
   "execution_count": 76,
   "metadata": {},
   "outputs": [
    {
     "data": {
      "text/html": [
       "<div>\n",
       "<style>\n",
       "    .dataframe thead tr:only-child th {\n",
       "        text-align: right;\n",
       "    }\n",
       "\n",
       "    .dataframe thead th {\n",
       "        text-align: left;\n",
       "    }\n",
       "\n",
       "    .dataframe tbody tr th {\n",
       "        vertical-align: top;\n",
       "    }\n",
       "</style>\n",
       "<table border=\"1\" class=\"dataframe\">\n",
       "  <thead>\n",
       "    <tr style=\"text-align: right;\">\n",
       "      <th></th>\n",
       "      <th>model</th>\n",
       "      <th>score</th>\n",
       "    </tr>\n",
       "  </thead>\n",
       "  <tbody>\n",
       "    <tr>\n",
       "      <th>8</th>\n",
       "      <td>LogisticRegression</td>\n",
       "      <td>0.852712</td>\n",
       "    </tr>\n",
       "    <tr>\n",
       "      <th>5</th>\n",
       "      <td>RandomForestClassifier</td>\n",
       "      <td>0.840006</td>\n",
       "    </tr>\n",
       "    <tr>\n",
       "      <th>1</th>\n",
       "      <td>SVC</td>\n",
       "      <td>0.838187</td>\n",
       "    </tr>\n",
       "    <tr>\n",
       "      <th>0</th>\n",
       "      <td>LinearSVC</td>\n",
       "      <td>0.836377</td>\n",
       "    </tr>\n",
       "    <tr>\n",
       "      <th>2</th>\n",
       "      <td>Perceptron</td>\n",
       "      <td>0.822745</td>\n",
       "    </tr>\n",
       "    <tr>\n",
       "      <th>6</th>\n",
       "      <td>KNeighborsClassifier</td>\n",
       "      <td>0.821819</td>\n",
       "    </tr>\n",
       "    <tr>\n",
       "      <th>7</th>\n",
       "      <td>DecisionTreeClassifier</td>\n",
       "      <td>0.744669</td>\n",
       "    </tr>\n",
       "    <tr>\n",
       "      <th>4</th>\n",
       "      <td>GaussianNB</td>\n",
       "      <td>0.719107</td>\n",
       "    </tr>\n",
       "    <tr>\n",
       "      <th>3</th>\n",
       "      <td>SGDClassifier</td>\n",
       "      <td>0.702114</td>\n",
       "    </tr>\n",
       "  </tbody>\n",
       "</table>\n",
       "</div>"
      ],
      "text/plain": [
       "                    model     score\n",
       "8      LogisticRegression  0.852712\n",
       "5  RandomForestClassifier  0.840006\n",
       "1                     SVC  0.838187\n",
       "0               LinearSVC  0.836377\n",
       "2              Perceptron  0.822745\n",
       "6    KNeighborsClassifier  0.821819\n",
       "7  DecisionTreeClassifier  0.744669\n",
       "4              GaussianNB  0.719107\n",
       "3           SGDClassifier  0.702114"
      ]
     },
     "execution_count": 76,
     "metadata": {},
     "output_type": "execute_result"
    }
   ],
   "source": [
    "models = [lsvc,svc,pct,sgdc,gnb,rf_best_deep,knn_best_num,dt,lr]\n",
    "model_df = pd.DataFrame(np.zeros((len(models),2)),columns=['model','score'])\n",
    "\n",
    "for i in range(len(models)):\n",
    "    model_df.loc[i,'model'] = str(models[i]).split('(')[0]\n",
    "    model_df.loc[i,'score'] = cross_val_score(models[i],x,y,cv=5,\n",
    "                                              scoring='accuracy').mean() \n",
    "\n",
    "model_df.sort_values(by='score',ascending=False)"
   ]
  },
  {
   "cell_type": "markdown",
   "metadata": {},
   "source": [
    "不同模型在处理同一数据时的能力不同，选择最优秀的模型进行预测"
   ]
  },
  {
   "cell_type": "code",
   "execution_count": 78,
   "metadata": {
    "collapsed": true
   },
   "outputs": [],
   "source": [
    "model_lr = lr.fit(x,y)"
   ]
  },
  {
   "cell_type": "code",
   "execution_count": 3,
   "metadata": {},
   "outputs": [],
   "source": [
    "resignation_test = pd.read_csv('E:\\\\MySQL_data\\\\DataCastle\\\\pfm_test.csv',\n",
    "                               encoding='utf-8')"
   ]
  },
  {
   "cell_type": "code",
   "execution_count": 77,
   "metadata": {
    "collapsed": true
   },
   "outputs": [],
   "source": [
    "x_test = resignation_test[features]\n",
    "pfm_predict = model_lr.predict(x_test)"
   ]
  },
  {
   "cell_type": "code",
   "execution_count": 35,
   "metadata": {
    "collapsed": true
   },
   "outputs": [],
   "source": [
    "pd.DataFrame(pfm_predict).to_csv('E:\\\\MySQL_data\\\\DataCastle\\\\pfm_predict.csv',\n",
    "                                index = False,\n",
    "                                header = ['result'],\n",
    "                                encoding = 'utf-8')"
   ]
  },
  {
   "cell_type": "markdown",
   "metadata": {},
   "source": [
    "第1次提交到DC后得分：0.87428，排名142<br>\n",
    "![第1次提交](https://github.com/incipient1/resignation_predict/blob/master/img/score_1_dc.PNG)"
   ]
  },
  {
   "cell_type": "markdown",
   "metadata": {},
   "source": [
    "## 标签化9列"
   ]
  },
  {
   "cell_type": "markdown",
   "metadata": {},
   "source": [
    "### 标签化BusinessTravel"
   ]
  },
  {
   "cell_type": "markdown",
   "metadata": {},
   "source": [
    "BusinessTravel|商务差旅频率\n",
    "--------------|----------\n",
    "Non-Travel    |不出差\n",
    "Travel_Rarely |不经常出差\n",
    "Travel_Frequently|经常出差"
   ]
  },
  {
   "cell_type": "code",
   "execution_count": 80,
   "metadata": {},
   "outputs": [
    {
     "data": {
      "text/plain": [
       "{'Non-Travel', 'Travel_Frequently', 'Travel_Rarely'}"
      ]
     },
     "execution_count": 80,
     "metadata": {},
     "output_type": "execute_result"
    }
   ],
   "source": [
    "set(resignation['BusinessTravel'])"
   ]
  },
  {
   "cell_type": "code",
   "execution_count": 81,
   "metadata": {
    "collapsed": true
   },
   "outputs": [],
   "source": [
    "resignation['business_travel'] = resignation['BusinessTravel']"
   ]
  },
  {
   "cell_type": "code",
   "execution_count": 82,
   "metadata": {
    "collapsed": true
   },
   "outputs": [],
   "source": [
    "resignation.loc[resignation['business_travel'] == 'Non-Travel','business_travel'] = 0\n",
    "resignation.loc[resignation['business_travel'] == 'Travel_Rarely','business_travel'] = 1\n",
    "resignation.loc[resignation['business_travel'] == 'Travel_Frequently','business_travel'] = 2  "
   ]
  },
  {
   "cell_type": "code",
   "execution_count": 83,
   "metadata": {},
   "outputs": [
    {
     "data": {
      "text/plain": [
       "{0, 1, 2}"
      ]
     },
     "execution_count": 83,
     "metadata": {},
     "output_type": "execute_result"
    }
   ],
   "source": [
    "set(resignation['business_travel'])"
   ]
  },
  {
   "cell_type": "markdown",
   "metadata": {},
   "source": [
    "标签化成功"
   ]
  },
  {
   "cell_type": "markdown",
   "metadata": {
    "heading_collapsed": true
   },
   "source": [
    "### 标签化Department"
   ]
  },
  {
   "cell_type": "markdown",
   "metadata": {
    "hidden": true
   },
   "source": [
    "Department|员工所在部门\n",
    "-----|-----\n",
    "Sales|销售部\n",
    "Research & Development|研发部\n",
    "Human Resources|人力资源部\n",
    "\n",
    "标签和部门之间没有关系，故自动标签"
   ]
  },
  {
   "cell_type": "code",
   "execution_count": 84,
   "metadata": {
    "collapsed": true,
    "hidden": true
   },
   "outputs": [],
   "source": [
    "resignation['department'] = resignation['Department']"
   ]
  },
  {
   "cell_type": "code",
   "execution_count": 87,
   "metadata": {
    "hidden": true
   },
   "outputs": [
    {
     "data": {
      "text/plain": [
       "{'Human Resources', 'Research & Development', 'Sales'}"
      ]
     },
     "execution_count": 87,
     "metadata": {},
     "output_type": "execute_result"
    }
   ],
   "source": [
    "set(resignation['department'])"
   ]
  },
  {
   "cell_type": "code",
   "execution_count": 88,
   "metadata": {
    "collapsed": true,
    "hidden": true
   },
   "outputs": [],
   "source": [
    "from sklearn.preprocessing import LabelEncoder\n",
    "le = LabelEncoder()\n",
    "le.fit(resignation['department'])\n",
    "resignation['department'] = le.transform(resignation['department'])"
   ]
  },
  {
   "cell_type": "markdown",
   "metadata": {
    "heading_collapsed": true
   },
   "source": [
    "### 标签化EducationField"
   ]
  },
  {
   "cell_type": "code",
   "execution_count": 91,
   "metadata": {
    "hidden": true
   },
   "outputs": [
    {
     "data": {
      "text/plain": [
       "{'Human Resources',\n",
       " 'Life Sciences',\n",
       " 'Marketing',\n",
       " 'Medical',\n",
       " 'Other',\n",
       " 'Technical Degree'}"
      ]
     },
     "execution_count": 91,
     "metadata": {},
     "output_type": "execute_result"
    }
   ],
   "source": [
    "set(resignation['EducationField'])"
   ]
  },
  {
   "cell_type": "code",
   "execution_count": 92,
   "metadata": {
    "collapsed": true,
    "hidden": true
   },
   "outputs": [],
   "source": [
    "resignation['education_field'] = resignation['EducationField']"
   ]
  },
  {
   "cell_type": "code",
   "execution_count": 93,
   "metadata": {
    "collapsed": true,
    "hidden": true
   },
   "outputs": [],
   "source": [
    "le.fit(resignation['education_field'])\n",
    "resignation['education_field'] = le.transform(resignation['education_field'])"
   ]
  },
  {
   "cell_type": "markdown",
   "metadata": {
    "heading_collapsed": true
   },
   "source": [
    "### 标签化Gender"
   ]
  },
  {
   "cell_type": "code",
   "execution_count": 96,
   "metadata": {
    "collapsed": true,
    "hidden": true
   },
   "outputs": [],
   "source": [
    "resignation['gender'] = resignation['Gender']\n",
    "resignation.loc[resignation['gender'] == 'Female','gender'] = 0\n",
    "resignation.loc[resignation['gender'] == 'Male','gender'] = 1"
   ]
  },
  {
   "cell_type": "markdown",
   "metadata": {
    "heading_collapsed": true
   },
   "source": [
    "### 标签化JobRole"
   ]
  },
  {
   "cell_type": "code",
   "execution_count": 107,
   "metadata": {
    "hidden": true
   },
   "outputs": [
    {
     "data": {
      "text/plain": [
       "{0, 1, 2, 3, 4, 5, 6, 7, 8}"
      ]
     },
     "execution_count": 107,
     "metadata": {},
     "output_type": "execute_result"
    }
   ],
   "source": [
    "set(resignation['job_role'])"
   ]
  },
  {
   "cell_type": "code",
   "execution_count": 102,
   "metadata": {
    "collapsed": true,
    "hidden": true
   },
   "outputs": [],
   "source": [
    "resignation['job_role'] = resignation['JobRole']\n",
    "le.fit(resignation['job_role'])\n",
    "resignation['job_role'] = le.transform(resignation['job_role'])"
   ]
  },
  {
   "cell_type": "markdown",
   "metadata": {
    "heading_collapsed": true
   },
   "source": [
    "### 标签化MaritalStatus"
   ]
  },
  {
   "cell_type": "code",
   "execution_count": 113,
   "metadata": {
    "hidden": true
   },
   "outputs": [
    {
     "data": {
      "text/plain": [
       "{0, 1, 2}"
      ]
     },
     "execution_count": 113,
     "metadata": {},
     "output_type": "execute_result"
    }
   ],
   "source": [
    "set(resignation['marital_status'])"
   ]
  },
  {
   "cell_type": "code",
   "execution_count": 104,
   "metadata": {
    "collapsed": true,
    "hidden": true
   },
   "outputs": [],
   "source": [
    "resignation['marital_status'] = resignation['MaritalStatus']\n",
    "le.fit(resignation['marital_status'])\n",
    "resignation['marital_status'] = le.transform(resignation['marital_status'])"
   ]
  },
  {
   "cell_type": "markdown",
   "metadata": {},
   "source": [
    "### 标签化OverTime"
   ]
  },
  {
   "cell_type": "code",
   "execution_count": 109,
   "metadata": {
    "collapsed": true
   },
   "outputs": [],
   "source": [
    "resignation['over_time'] = resignation['OverTime']"
   ]
  },
  {
   "cell_type": "code",
   "execution_count": 111,
   "metadata": {
    "collapsed": true
   },
   "outputs": [],
   "source": [
    "le.fit(resignation['over_time'])\n",
    "resignation['over_time'] = le.transform(resignation['over_time'])"
   ]
  },
  {
   "cell_type": "markdown",
   "metadata": {},
   "source": [
    "## 新标签训练"
   ]
  },
  {
   "cell_type": "code",
   "execution_count": 138,
   "metadata": {
    "collapsed": true
   },
   "outputs": [],
   "source": [
    "new_labels = ['business_travel','department','education_field','gender','job_role',\n",
    "             'marital_status','over_time']\n",
    "features.extend(new_labels)"
   ]
  },
  {
   "cell_type": "code",
   "execution_count": 136,
   "metadata": {
    "collapsed": true
   },
   "outputs": [],
   "source": [
    "x_wrap = resignation[list(set(features))]"
   ]
  },
  {
   "cell_type": "code",
   "execution_count": 137,
   "metadata": {},
   "outputs": [
    {
     "data": {
      "text/html": [
       "<div>\n",
       "<style>\n",
       "    .dataframe thead tr:only-child th {\n",
       "        text-align: right;\n",
       "    }\n",
       "\n",
       "    .dataframe thead th {\n",
       "        text-align: left;\n",
       "    }\n",
       "\n",
       "    .dataframe tbody tr th {\n",
       "        vertical-align: top;\n",
       "    }\n",
       "</style>\n",
       "<table border=\"1\" class=\"dataframe\">\n",
       "  <thead>\n",
       "    <tr style=\"text-align: right;\">\n",
       "      <th></th>\n",
       "      <th>model</th>\n",
       "      <th>score</th>\n",
       "    </tr>\n",
       "  </thead>\n",
       "  <tbody>\n",
       "    <tr>\n",
       "      <th>8</th>\n",
       "      <td>LogisticRegression</td>\n",
       "      <td>0.874486</td>\n",
       "    </tr>\n",
       "    <tr>\n",
       "      <th>5</th>\n",
       "      <td>RandomForestClassifier</td>\n",
       "      <td>0.854576</td>\n",
       "    </tr>\n",
       "    <tr>\n",
       "      <th>1</th>\n",
       "      <td>SVC</td>\n",
       "      <td>0.838187</td>\n",
       "    </tr>\n",
       "    <tr>\n",
       "      <th>2</th>\n",
       "      <td>Perceptron</td>\n",
       "      <td>0.838187</td>\n",
       "    </tr>\n",
       "    <tr>\n",
       "      <th>3</th>\n",
       "      <td>SGDClassifier</td>\n",
       "      <td>0.838187</td>\n",
       "    </tr>\n",
       "    <tr>\n",
       "      <th>6</th>\n",
       "      <td>KNeighborsClassifier</td>\n",
       "      <td>0.818183</td>\n",
       "    </tr>\n",
       "    <tr>\n",
       "      <th>7</th>\n",
       "      <td>DecisionTreeClassifier</td>\n",
       "      <td>0.783658</td>\n",
       "    </tr>\n",
       "    <tr>\n",
       "      <th>4</th>\n",
       "      <td>GaussianNB</td>\n",
       "      <td>0.754550</td>\n",
       "    </tr>\n",
       "    <tr>\n",
       "      <th>0</th>\n",
       "      <td>LinearSVC</td>\n",
       "      <td>0.721499</td>\n",
       "    </tr>\n",
       "  </tbody>\n",
       "</table>\n",
       "</div>"
      ],
      "text/plain": [
       "                    model     score\n",
       "8      LogisticRegression  0.874486\n",
       "5  RandomForestClassifier  0.854576\n",
       "1                     SVC  0.838187\n",
       "2              Perceptron  0.838187\n",
       "3           SGDClassifier  0.838187\n",
       "6    KNeighborsClassifier  0.818183\n",
       "7  DecisionTreeClassifier  0.783658\n",
       "4              GaussianNB  0.754550\n",
       "0               LinearSVC  0.721499"
      ]
     },
     "execution_count": 137,
     "metadata": {},
     "output_type": "execute_result"
    }
   ],
   "source": [
    "models = [lsvc,svc,pct,sgdc,gnb,rf_best_deep,knn_best_num,dt,lr]\n",
    "model_df = pd.DataFrame(np.zeros((len(models),2)),columns=['model','score'])\n",
    "\n",
    "for i in range(len(models)):\n",
    "    model_df.loc[i,'model'] = str(models[i]).split('(')[0]\n",
    "    model_df.loc[i,'score'] = cross_val_score(models[i],x_wrap,y,cv=5,\n",
    "                                              scoring='accuracy').mean() \n",
    "\n",
    "model_df.sort_values(by='score',ascending=False)"
   ]
  },
  {
   "cell_type": "markdown",
   "metadata": {},
   "source": [
    "最优模型lr提高了0.02分：从0.85提高到0.87，效果不明显"
   ]
  },
  {
   "cell_type": "markdown",
   "metadata": {},
   "source": [
    "## 新标签预测"
   ]
  },
  {
   "cell_type": "markdown",
   "metadata": {},
   "source": [
    "### 标签化，同上"
   ]
  },
  {
   "cell_type": "code",
   "execution_count": 5,
   "metadata": {},
   "outputs": [
    {
     "data": {
      "text/html": [
       "<div>\n",
       "<style>\n",
       "    .dataframe thead tr:only-child th {\n",
       "        text-align: right;\n",
       "    }\n",
       "\n",
       "    .dataframe thead th {\n",
       "        text-align: left;\n",
       "    }\n",
       "\n",
       "    .dataframe tbody tr th {\n",
       "        vertical-align: top;\n",
       "    }\n",
       "</style>\n",
       "<table border=\"1\" class=\"dataframe\">\n",
       "  <thead>\n",
       "    <tr style=\"text-align: right;\">\n",
       "      <th></th>\n",
       "      <th>Age</th>\n",
       "      <th>BusinessTravel</th>\n",
       "      <th>Department</th>\n",
       "      <th>DistanceFromHome</th>\n",
       "      <th>Education</th>\n",
       "      <th>EducationField</th>\n",
       "      <th>EmployeeNumber</th>\n",
       "      <th>EnvironmentSatisfaction</th>\n",
       "      <th>Gender</th>\n",
       "      <th>JobInvolvement</th>\n",
       "      <th>...</th>\n",
       "      <th>WorkLifeBalance</th>\n",
       "      <th>YearsAtCompany</th>\n",
       "      <th>YearsInCurrentRole</th>\n",
       "      <th>YearsSinceLastPromotion</th>\n",
       "      <th>YearsWithCurrManager</th>\n",
       "      <th>department</th>\n",
       "      <th>education_field</th>\n",
       "      <th>job_role</th>\n",
       "      <th>marital_status</th>\n",
       "      <th>over_time</th>\n",
       "    </tr>\n",
       "  </thead>\n",
       "  <tbody>\n",
       "    <tr>\n",
       "      <th>129</th>\n",
       "      <td>52</td>\n",
       "      <td>Travel_Rarely</td>\n",
       "      <td>Sales</td>\n",
       "      <td>5</td>\n",
       "      <td>3</td>\n",
       "      <td>Life Sciences</td>\n",
       "      <td>1319</td>\n",
       "      <td>2</td>\n",
       "      <td>Male</td>\n",
       "      <td>3</td>\n",
       "      <td>...</td>\n",
       "      <td>2</td>\n",
       "      <td>8</td>\n",
       "      <td>7</td>\n",
       "      <td>7</td>\n",
       "      <td>7</td>\n",
       "      <td>2</td>\n",
       "      <td>1</td>\n",
       "      <td>7</td>\n",
       "      <td>2</td>\n",
       "      <td>1</td>\n",
       "    </tr>\n",
       "    <tr>\n",
       "      <th>135</th>\n",
       "      <td>59</td>\n",
       "      <td>Travel_Rarely</td>\n",
       "      <td>Sales</td>\n",
       "      <td>3</td>\n",
       "      <td>3</td>\n",
       "      <td>Life Sciences</td>\n",
       "      <td>1254</td>\n",
       "      <td>3</td>\n",
       "      <td>Female</td>\n",
       "      <td>2</td>\n",
       "      <td>...</td>\n",
       "      <td>3</td>\n",
       "      <td>6</td>\n",
       "      <td>1</td>\n",
       "      <td>0</td>\n",
       "      <td>5</td>\n",
       "      <td>2</td>\n",
       "      <td>1</td>\n",
       "      <td>7</td>\n",
       "      <td>2</td>\n",
       "      <td>0</td>\n",
       "    </tr>\n",
       "    <tr>\n",
       "      <th>156</th>\n",
       "      <td>31</td>\n",
       "      <td>Travel_Rarely</td>\n",
       "      <td>Research &amp; Development</td>\n",
       "      <td>7</td>\n",
       "      <td>4</td>\n",
       "      <td>Life Sciences</td>\n",
       "      <td>76</td>\n",
       "      <td>4</td>\n",
       "      <td>Male</td>\n",
       "      <td>3</td>\n",
       "      <td>...</td>\n",
       "      <td>2</td>\n",
       "      <td>7</td>\n",
       "      <td>7</td>\n",
       "      <td>1</td>\n",
       "      <td>7</td>\n",
       "      <td>1</td>\n",
       "      <td>1</td>\n",
       "      <td>2</td>\n",
       "      <td>0</td>\n",
       "      <td>0</td>\n",
       "    </tr>\n",
       "    <tr>\n",
       "      <th>345</th>\n",
       "      <td>24</td>\n",
       "      <td>Travel_Rarely</td>\n",
       "      <td>Sales</td>\n",
       "      <td>10</td>\n",
       "      <td>4</td>\n",
       "      <td>Marketing</td>\n",
       "      <td>507</td>\n",
       "      <td>4</td>\n",
       "      <td>Female</td>\n",
       "      <td>3</td>\n",
       "      <td>...</td>\n",
       "      <td>4</td>\n",
       "      <td>5</td>\n",
       "      <td>2</td>\n",
       "      <td>0</td>\n",
       "      <td>3</td>\n",
       "      <td>2</td>\n",
       "      <td>2</td>\n",
       "      <td>7</td>\n",
       "      <td>0</td>\n",
       "      <td>1</td>\n",
       "    </tr>\n",
       "    <tr>\n",
       "      <th>51</th>\n",
       "      <td>31</td>\n",
       "      <td>Non-Travel</td>\n",
       "      <td>Research &amp; Development</td>\n",
       "      <td>3</td>\n",
       "      <td>2</td>\n",
       "      <td>Medical</td>\n",
       "      <td>1948</td>\n",
       "      <td>3</td>\n",
       "      <td>Male</td>\n",
       "      <td>3</td>\n",
       "      <td>...</td>\n",
       "      <td>4</td>\n",
       "      <td>4</td>\n",
       "      <td>2</td>\n",
       "      <td>2</td>\n",
       "      <td>3</td>\n",
       "      <td>1</td>\n",
       "      <td>3</td>\n",
       "      <td>6</td>\n",
       "      <td>0</td>\n",
       "      <td>1</td>\n",
       "    </tr>\n",
       "  </tbody>\n",
       "</table>\n",
       "<p>5 rows × 35 columns</p>\n",
       "</div>"
      ],
      "text/plain": [
       "     Age BusinessTravel              Department  DistanceFromHome  Education  \\\n",
       "129   52  Travel_Rarely                   Sales                 5          3   \n",
       "135   59  Travel_Rarely                   Sales                 3          3   \n",
       "156   31  Travel_Rarely  Research & Development                 7          4   \n",
       "345   24  Travel_Rarely                   Sales                10          4   \n",
       "51    31     Non-Travel  Research & Development                 3          2   \n",
       "\n",
       "    EducationField  EmployeeNumber  EnvironmentSatisfaction  Gender  \\\n",
       "129  Life Sciences            1319                        2    Male   \n",
       "135  Life Sciences            1254                        3  Female   \n",
       "156  Life Sciences              76                        4    Male   \n",
       "345      Marketing             507                        4  Female   \n",
       "51         Medical            1948                        3    Male   \n",
       "\n",
       "     JobInvolvement    ...      WorkLifeBalance YearsAtCompany  \\\n",
       "129               3    ...                    2              8   \n",
       "135               2    ...                    3              6   \n",
       "156               3    ...                    2              7   \n",
       "345               3    ...                    4              5   \n",
       "51                3    ...                    4              4   \n",
       "\n",
       "     YearsInCurrentRole YearsSinceLastPromotion  YearsWithCurrManager  \\\n",
       "129                   7                       7                     7   \n",
       "135                   1                       0                     5   \n",
       "156                   7                       1                     7   \n",
       "345                   2                       0                     3   \n",
       "51                    2                       2                     3   \n",
       "\n",
       "     department education_field job_role  marital_status  over_time  \n",
       "129           2               1        7               2          1  \n",
       "135           2               1        7               2          0  \n",
       "156           1               1        2               0          0  \n",
       "345           2               2        7               0          1  \n",
       "51            1               3        6               0          1  \n",
       "\n",
       "[5 rows x 35 columns]"
      ]
     },
     "execution_count": 5,
     "metadata": {},
     "output_type": "execute_result"
    }
   ],
   "source": [
    "columns_old = ['Department','EducationField','JobRole','MaritalStatus',\n",
    "               'OverTime']\n",
    "\n",
    "columns_new = ['department','education_field','job_role','marital_status',\n",
    "               'over_time']\n",
    "\n",
    "from sklearn.preprocessing import LabelEncoder\n",
    "le = LabelEncoder()\n",
    "for i in range(len(columns_old)):\n",
    "    resignation_test[columns_new[i]] = resignation_test[columns_old[i]]\n",
    "    le.fit(resignation_test[columns_new[i]])\n",
    "    resignation_test[columns_new[i]] = le.transform(\n",
    "        resignation_test[columns_old[i]])\n"
   ]
  },
  {
   "cell_type": "code",
   "execution_count": 141,
   "metadata": {
    "collapsed": true
   },
   "outputs": [],
   "source": [
    "resignation_test['business_travel'] = resignation_test['BusinessTravel']\n",
    "resignation_test.loc[resignation_test['business_travel'] == \n",
    "                     'Non-Travel','business_travel'] = 0\n",
    "resignation_test.loc[resignation_test['business_travel'] == \n",
    "                     'Travel_Rarely','business_travel'] = 1\n",
    "resignation_test.loc[resignation_test['business_travel'] == \n",
    "                     'Travel_Frequently','business_travel'] = 2  \n",
    "\n",
    "resignation_test['gender'] = resignation_test['Gender']\n",
    "resignation_test.loc[resignation_test['gender'] == 'Female','gender'] = 0\n",
    "resignation_test.loc[resignation_test['gender'] == 'Male','gender'] = 1"
   ]
  },
  {
   "cell_type": "markdown",
   "metadata": {},
   "source": [
    "### 预测"
   ]
  },
  {
   "cell_type": "code",
   "execution_count": 142,
   "metadata": {
    "collapsed": true
   },
   "outputs": [],
   "source": [
    "x_test_wrap = resignation_test[list(set(features))]"
   ]
  },
  {
   "cell_type": "code",
   "execution_count": 143,
   "metadata": {
    "collapsed": true
   },
   "outputs": [],
   "source": [
    "model_lr_wrap = lr.fit(x_wrap,y)"
   ]
  },
  {
   "cell_type": "code",
   "execution_count": 144,
   "metadata": {
    "collapsed": true
   },
   "outputs": [],
   "source": [
    "y_test_wrap = model_lr_wrap.predict(x_test_wrap)\n",
    "pd.DataFrame(y_test_wrap).to_csv('E:\\\\MySQL_data\\\\DataCastle\\\\pfm_predict_wrap.csv',\n",
    "                                index = False,\n",
    "                                header = ['result'],\n",
    "                                encoding = 'utf-8')"
   ]
  },
  {
   "cell_type": "markdown",
   "metadata": {},
   "source": [
    "第2次提交后得分：0.88857，提高了0.01分；排名：85，提高了57<br>\n",
    "![第2次得分](https://github.com/incipient1/resignation_predict/blob/master/img/score_2_dc.PNG)"
   ]
  }
 ],
 "metadata": {
  "kernelspec": {
   "display_name": "Python 3",
   "language": "python",
   "name": "python3"
  },
  "language_info": {
   "codemirror_mode": {
    "name": "ipython",
    "version": 3
   },
   "file_extension": ".py",
   "mimetype": "text/x-python",
   "name": "python",
   "nbconvert_exporter": "python",
   "pygments_lexer": "ipython3",
   "version": "3.5.4"
  },
  "toc": {
   "nav_menu": {},
   "number_sections": true,
   "sideBar": true,
   "skip_h1_title": false,
   "toc_cell": false,
   "toc_position": {},
   "toc_section_display": "block",
   "toc_window_display": false
  }
 },
 "nbformat": 4,
 "nbformat_minor": 2
}
